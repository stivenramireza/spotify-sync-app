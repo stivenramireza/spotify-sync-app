{
  "nbformat": 4,
  "nbformat_minor": 0,
  "metadata": {
    "colab": {
      "name": "spotify_sync.ipynb",
      "provenance": [],
      "collapsed_sections": [],
      "toc_visible": true
    },
    "kernelspec": {
      "name": "python395jvsc74a57bd01c118c52a1afb5051ac2d8d3ad4e2704e0aadeb3d12b9c96c1946f2feae1c2f5",
      "display_name": "Python 3.9.5 64-bit ('odoo-import-TLve7jH3': virtualenvwrapper)"
    },
    "language_info": {
      "name": "python",
      "version": "3.9.5"
    },
    "metadata": {
      "interpreter": {
        "hash": "36cf16204b8548560b1c020c4e8fb5b57f0e4c58016f52f2d4be01e192833930"
      }
    }
  },
  "cells": [
    {
      "cell_type": "markdown",
      "metadata": {
        "id": "d4cIqS5yN8N-"
      },
      "source": [
        "# Spotify Sync"
      ]
    },
    {
      "cell_type": "code",
      "metadata": {
        "id": "3yUgquyjb092"
      },
      "source": [
        "import requests\n",
        "import pandas as pd\n",
        "from typing import List, Dict, Any"
      ],
      "execution_count": 3,
      "outputs": []
    },
    {
      "cell_type": "markdown",
      "metadata": {
        "id": "vOhT2DwQDy6D"
      },
      "source": [
        "## Environment variables"
      ]
    },
    {
      "cell_type": "code",
      "metadata": {
        "id": "7GsbuCiYviHG"
      },
      "source": [
        "SPOTIFY_API = <SPOTIFY_API>\n",
        "OAUTH_TOKEN_USER_1 = <OAUTH_TOKEN_USER_1>\n",
        "OAUTH_TOKEN_USER_2 = <OAUTH_TOKEN_USER_2>"
      ],
      "execution_count": 38,
      "outputs": []
    },
    {
      "cell_type": "markdown",
      "metadata": {
        "id": "pNrwAoSVq9uI"
      },
      "source": [
        "## Get User's Saved Tracks"
      ]
    },
    {
      "cell_type": "code",
      "metadata": {
        "id": "PCZ-xuOC2htv"
      },
      "source": [
        "def get_user_saved_tracks(offset: int) -> List[Dict[str, Any]]:\n",
        "  try:\n",
        "    headers = {\n",
        "        'Authorization': f'Bearer {OAUTH_TOKEN_USER_1}'\n",
        "    }\n",
        "    r = requests.get(f'{SPOTIFY_API}/me/tracks?limit=50&offset={offset}', headers=headers)\n",
        "    r.raise_for_status()\n",
        "    return r.json()\n",
        "  except requests.exceptions.HTTPError as error:\n",
        "    return f'Error to get user saved tracks: {error}'"
      ],
      "execution_count": null,
      "outputs": []
    },
    {
      "cell_type": "code",
      "metadata": {
        "id": "MR_iz8iyfgla"
      },
      "source": [
        "def filter_user_saved_tracks() -> List[Dict[str, Any]]:\n",
        "  current_tracks = [None]\n",
        "  saved_tracks = []\n",
        "  offset = 0\n",
        "  while len(current_tracks) != 0:\n",
        "    data = get_user_saved_tracks(offset)\n",
        "    df = pd.DataFrame(data)\n",
        "    df = df.filter(['items'])\n",
        "    df = pd.json_normalize(df.to_dict('records'))\n",
        "    df = df.filter(['items.track.id', 'items.track.name', 'items.track.external_urls.spotify'])\n",
        "    df.rename(columns={'items.track.id': 'track_id', 'items.track.name': 'track_name', 'items.track.external_urls.spotify': 'track_url'}, inplace=True)\n",
        "    current_tracks = [track for track in df.to_dict('records')]\n",
        "    for saved_track in current_tracks:\n",
        "      saved_tracks.append(saved_track)\n",
        "    offset += 50\n",
        "  return saved_tracks"
      ],
      "execution_count": null,
      "outputs": []
    },
    {
      "cell_type": "markdown",
      "metadata": {
        "id": "dKsqPkFOrFj1"
      },
      "source": [
        "## Save Tracks for User"
      ]
    },
    {
      "cell_type": "code",
      "metadata": {
        "id": "anz8V_ft4_4E"
      },
      "source": [
        "def save_tracks_for_user(ids: str) -> None:\n",
        "  try:\n",
        "    headers = {\n",
        "        'Authorization': f'Bearer {OAUTH_TOKEN_USER_2}'\n",
        "    }\n",
        "    r = requests.put(f'{SPOTIFY_API}/me/tracks?ids={ids}', data={}, headers=headers)\n",
        "    r.raise_for_status()\n",
        "  except requests.exceptions.HTTPError as error:\n",
        "    return f'Error to save tracks for user: {error}'"
      ],
      "execution_count": null,
      "outputs": []
    },
    {
      "cell_type": "code",
      "metadata": {
        "id": "ZRsRz-iywId3"
      },
      "source": [
        "def filter_tracks_for_user() -> None:\n",
        "  saved_tracks = filter_user_saved_tracks()\n",
        "  df_saved_tracks = pd.DataFrame(saved_tracks)\n",
        "  saved_tracks_list = df_saved_tracks['track_id'].tolist()\n",
        "  offset = 0\n",
        "  while offset < len(saved_tracks_list):\n",
        "    ids_list = [track for track in saved_tracks_list[offset:offset+50]]\n",
        "    ids = \",\".join(ids_list)\n",
        "    save_tracks_for_user(ids)\n",
        "    offset += 50"
      ],
      "execution_count": null,
      "outputs": []
    },
    {
      "cell_type": "code",
      "metadata": {
        "id": "_ZrnuWye9IIJ"
      },
      "source": [
        "filter_tracks_for_user()"
      ],
      "execution_count": null,
      "outputs": []
    },
    {
      "source": [
        "## Get a List of Current User's Playlists"
      ],
      "cell_type": "markdown",
      "metadata": {}
    },
    {
      "cell_type": "code",
      "execution_count": 44,
      "metadata": {},
      "outputs": [],
      "source": [
        "def get_user_playlists(oauth_token: str, offset: int) -> any:\n",
        "    try:\n",
        "        headers = {\n",
        "            'Authorization': f'Bearer {oauth_token}'\n",
        "        }\n",
        "        r = requests.get(f'https://api.spotify.com/v1/me/playlists?limit=50&offset={offset}', headers=headers)\n",
        "        r.raise_for_status()\n",
        "        return r.json()\n",
        "    except requests.exceptions.HTTPError as error:\n",
        "        return f'Error to get user playlists: {error}'"
      ]
    },
    {
      "cell_type": "code",
      "execution_count": 45,
      "metadata": {},
      "outputs": [],
      "source": [
        "def filter_user_playlists(oauth_token: str) -> list:\n",
        "    try:\n",
        "        current_playlists = [None]\n",
        "        saved_playlists = []\n",
        "        offset = 0\n",
        "        while len(current_playlists) != 0:\n",
        "            data = get_user_playlists(oauth_token, offset)\n",
        "            df = pd.DataFrame(data)\n",
        "            df = df.filter(['items'])\n",
        "            df = pd.json_normalize(df.to_dict('records'))\n",
        "            df = df.filter(['items.id'])\n",
        "            current_playlists = [playlist for playlist in df.to_dict('records')]\n",
        "            for saved_playlist in current_playlists:\n",
        "                saved_playlists.append(saved_playlist)\n",
        "            offset += 50\n",
        "        print('User playlists have been filtered successfully')\n",
        "        return saved_playlists\n",
        "    except Exception as error:\n",
        "        print(f'Error to filter user playlists: {error}')\n",
        "        raise"
      ]
    },
    {
      "source": [
        "## Follow a Playlist"
      ],
      "cell_type": "markdown",
      "metadata": {}
    },
    {
      "cell_type": "code",
      "execution_count": 47,
      "metadata": {},
      "outputs": [],
      "source": [
        "def follow_playlist(oauth_token: str, playlist_id: int) -> any:\n",
        "    try:\n",
        "        headers = {\n",
        "            'Content-Type': 'application/json',\n",
        "            'Authorization': f'Bearer {oauth_token}'\n",
        "        }\n",
        "        r = requests.put(f'https://api.spotify.com/v1/playlists/{playlist_id}/followers', data={}, headers=headers)\n",
        "        r.raise_for_status()\n",
        "        return r.status_code\n",
        "    except requests.exceptions.HTTPError as error:\n",
        "        return f'Error to follow playlist: {error}'"
      ]
    },
    {
      "cell_type": "code",
      "execution_count": 48,
      "metadata": {},
      "outputs": [],
      "source": [
        "def filter_playlists_for_user(oauth_token_1: str, oauth_token_2: str) -> None:\n",
        "    try:\n",
        "        saved_playlists = filter_user_playlists(oauth_token_1)\n",
        "        df_saved_playlists = pd.DataFrame(saved_playlists)\n",
        "        saved_playlists_list = df_saved_playlists['items.id'].tolist()\n",
        "        for playlist_id in saved_playlists_list:\n",
        "            status_code = follow_playlist(oauth_token_2, playlist_id)\n",
        "            if status_code == 204:\n",
        "                time.sleep(1)\n",
        "        print(f'Playlists for user have been followed successfully')\n",
        "    except Exception as error:\n",
        "        print(f'Error to filter playlists for user: {error}')\n",
        "        raise"
      ]
    }
  ]
}