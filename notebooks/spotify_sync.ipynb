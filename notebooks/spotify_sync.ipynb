{
  "nbformat": 4,
  "nbformat_minor": 0,
  "metadata": {
    "colab": {
      "name": "spotify_sync.ipynb",
      "provenance": [],
      "collapsed_sections": [],
      "toc_visible": true
    },
    "kernelspec": {
      "name": "python3",
      "display_name": "Python 3"
    },
    "language_info": {
      "name": "python"
    }
  },
  "cells": [
    {
      "cell_type": "markdown",
      "metadata": {
        "id": "d4cIqS5yN8N-"
      },
      "source": [
        "# Spotify Sync"
      ]
    },
    {
      "cell_type": "code",
      "metadata": {
        "id": "3yUgquyjb092"
      },
      "source": [
        "import requests\n",
        "import pandas as pd\n",
        "from typing import List, Dict, Any"
      ],
      "execution_count": 275,
      "outputs": []
    },
    {
      "cell_type": "markdown",
      "metadata": {
        "id": "vOhT2DwQDy6D"
      },
      "source": [
        "## Environment variables"
      ]
    },
    {
      "cell_type": "code",
      "metadata": {
        "id": "7GsbuCiYviHG"
      },
      "source": [
        "SPOTIFY_API = <SPOTIFY_API>\n",
        "OAUTH_TOKEN_USER_1 = <OAUTH_TOKEN_USER_1>\n",
        "OAUTH_TOKEN_USER_2 = <OAUTH_TOKEN_USER_2>"
      ],
      "execution_count": 277,
      "outputs": []
    },
    {
      "cell_type": "markdown",
      "metadata": {
        "id": "pNrwAoSVq9uI"
      },
      "source": [
        "## Get User's Saved Tracks"
      ]
    },
    {
      "cell_type": "code",
      "metadata": {
        "id": "PCZ-xuOC2htv"
      },
      "source": [
        "def get_user_saved_tracks(offset: int) -> List[Dict[str, Any]]:\n",
        "  try:\n",
        "    headers = {\n",
        "        'Authorization': f'Bearer {OAUTH_TOKEN_USER_1}'\n",
        "    }\n",
        "    r = requests.get(f'{SPOTIFY_API}/me/tracks?limit=50&offset={offset}', headers=headers)\n",
        "    r.raise_for_status()\n",
        "    return r.json()\n",
        "  except requests.exceptions.HTTPError as error:\n",
        "    return f'Error to get user saved tracks: {error}'"
      ],
      "execution_count": null,
      "outputs": []
    },
    {
      "cell_type": "code",
      "metadata": {
        "id": "MR_iz8iyfgla"
      },
      "source": [
        "def filter_user_saved_tracks() -> List[Dict[str, Any]]:\n",
        "  current_tracks = [None]\n",
        "  saved_tracks = []\n",
        "  offset = 0\n",
        "  while len(current_tracks) != 0:\n",
        "    data = get_user_saved_tracks(offset)\n",
        "    df = pd.DataFrame(data)\n",
        "    df = df.filter(['items'])\n",
        "    df = pd.json_normalize(df.to_dict('records'))\n",
        "    df = df.filter(['items.track.id', 'items.track.name', 'items.track.external_urls.spotify'])\n",
        "    df.rename(columns={'items.track.id': 'track_id', 'items.track.name': 'track_name', 'items.track.external_urls.spotify': 'track_url'}, inplace=True)\n",
        "    current_tracks = [track for track in df.to_dict('records')]\n",
        "    for saved_track in current_tracks:\n",
        "      saved_tracks.append(saved_track)\n",
        "    offset += 50\n",
        "  return saved_tracks"
      ],
      "execution_count": null,
      "outputs": []
    },
    {
      "cell_type": "markdown",
      "metadata": {
        "id": "dKsqPkFOrFj1"
      },
      "source": [
        "## Save Tracks for User"
      ]
    },
    {
      "cell_type": "code",
      "metadata": {
        "id": "anz8V_ft4_4E"
      },
      "source": [
        "def save_tracks_for_user(ids: str) -> None:\n",
        "  try:\n",
        "    headers = {\n",
        "        'Authorization': f'Bearer {OAUTH_TOKEN_USER_2}'\n",
        "    }\n",
        "    r = requests.put(f'{SPOTIFY_API}/me/tracks?ids={ids}', data={}, headers=headers)\n",
        "    r.raise_for_status()\n",
        "  except requests.exceptions.HTTPError as error:\n",
        "    return f'Error to save tracks for user: {error}'"
      ],
      "execution_count": null,
      "outputs": []
    },
    {
      "cell_type": "code",
      "metadata": {
        "id": "ZRsRz-iywId3"
      },
      "source": [
        "def filter_tracks_for_user() -> None:\n",
        "  saved_tracks = filter_user_saved_tracks()\n",
        "  df_saved_tracks = pd.DataFrame(saved_tracks)\n",
        "  saved_tracks_list = df_saved_tracks['track_id'].tolist()\n",
        "  offset = 0\n",
        "  while offset < len(saved_tracks_list):\n",
        "    ids_list = [track for track in saved_tracks_list[offset:offset+50]]\n",
        "    ids = \",\".join(ids_list)\n",
        "    save_tracks_for_user(ids)\n",
        "    offset += 50"
      ],
      "execution_count": null,
      "outputs": []
    },
    {
      "cell_type": "code",
      "metadata": {
        "id": "_ZrnuWye9IIJ"
      },
      "source": [
        "filter_tracks_for_user()"
      ],
      "execution_count": null,
      "outputs": []
    }
  ]
}